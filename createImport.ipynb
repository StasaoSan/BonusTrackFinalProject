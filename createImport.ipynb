{
 "nbformat": 4,
 "nbformat_minor": 0,
 "metadata": {
  "colab": {
   "name": "createImport.ipynb",
   "provenance": [],
   "collapsed_sections": [
    "4_hrRMepLfSv",
    "7vw7ImgkPB8c"
   ]
  },
  "kernelspec": {
   "name": "python3",
   "display_name": "Python 3"
  },
  "language_info": {
   "name": "python"
  }
 },
 "cells": [
  {
   "cell_type": "markdown",
   "source": [
    "# Скрипт для генерации sql запросов заполнения таблиц:\n",
    "Данный скрипт вы можете найти в файле createImport.spy. Данный скрипт создает файл insert.sql, который содержит в себе строки для вставки значений в таблицы. Число записей регулируетcя благодаря параметру n_records. Имя генерируемого файла можно менять изменяя параметр filename"
   ],
   "metadata": {
    "collapsed": false
   }
  },
  {
   "cell_type": "markdown",
   "source": [
    "\n",
    "- generate_airports(n): генерирует список SQL-запросов для вставки данных в таблицу Airport.\n"
   ],
   "metadata": {
    "collapsed": false
   }
  },
  {
   "cell_type": "code",
   "execution_count": null,
   "outputs": [],
   "source": [
    "def generate_airports(n):\n",
    "    airports = []\n",
    "    for i in range(1, n + 1):\n",
    "        airports.append(f\"({i}, '{random_string(3)}', 'City{i}', 'Country{i}', '{random.uniform(-90, 90):.6f}, {random.uniform(-180, 180):.6f}')\")\n",
    "    return airports"
   ],
   "metadata": {
    "collapsed": false
   }
  },
  {
   "cell_type": "markdown",
   "source": [
    "\n",
    "- generate_airplanes(n): генерирует список SQL-запросов для вставки данных в таблицу Airplane.\n"
   ],
   "metadata": {
    "collapsed": false
   }
  },
  {
   "cell_type": "code",
   "execution_count": null,
   "outputs": [],
   "source": [
    "def generate_airplanes(n):\n",
    "    airplanes = []\n",
    "    for i in range(1, n + 1):\n",
    "        airplanes.append(f\"({i}, 'Type{i}', '{random_string(5)}', {random.randint(1, 50)}, {random.randint(50, 300)})\")\n",
    "    return airplanes"
   ],
   "metadata": {
    "collapsed": false
   }
  },
  {
   "cell_type": "markdown",
   "source": [
    "\n",
    "- generate_seats(n): генерирует список SQL-запросов для вставки данных в таблицу Seat.\n"
   ],
   "metadata": {
    "collapsed": false
   }
  },
  {
   "cell_type": "code",
   "execution_count": null,
   "outputs": [],
   "source": [
    "def generate_seats(n):\n",
    "    seats = []\n",
    "    for i in range(1, n + 1):\n",
    "        seats.append(f\"({i}, {random.randint(1, n)}, 'Economy', {i})\")\n",
    "    return seats"
   ],
   "metadata": {
    "collapsed": false
   }
  },
  {
   "cell_type": "markdown",
   "source": [
    "\n",
    "- generate_passengers(n): генерирует список SQL-запросов для вставки данных в таблицу Passenger.\n"
   ],
   "metadata": {
    "collapsed": false
   }
  },
  {
   "cell_type": "code",
   "execution_count": null,
   "outputs": [],
   "source": [
    "def generate_passengers(n):\n",
    "    passengers = []\n",
    "    for i in range(1, n + 1):\n",
    "        gender = random.choice(['M', 'F'])\n",
    "        date_of_birth = random_date(datetime(1950, 1, 1), datetime(2003, 12, 31)).strftime('%Y-%m-%d')\n",
    "        passengers.append(f\"({i}, {random.randint(1, n)}, 'Name{i}', 'Surname{i}', 'Patronymic{i}', {random.randint(18, 70)}, '{date_of_birth}', '{gender}', {random.randint(100000, 999999)}, 'Passport')\")\n",
    "    return passengers"
   ],
   "metadata": {
    "collapsed": false
   }
  },
  {
   "cell_type": "markdown",
   "source": [
    "\n",
    "- generate_reservations(n): генерирует список SQL-запросов для вставки данных в таблицу Reservation.\n"
   ],
   "metadata": {
    "collapsed": false
   }
  },
  {
   "cell_type": "code",
   "execution_count": null,
   "outputs": [],
   "source": [
    "def generate_reservations(n):\n",
    "    reservations = []\n",
    "    for i in range(1, n + 1):\n",
    "        reservations.append(f\"({i}, {random.randint(1, n)}, {random.randint(1, n)}, 'Yes', 'Electronic', 'RUB')\")\n",
    "    return reservations"
   ],
   "metadata": {
    "collapsed": false
   }
  },
  {
   "cell_type": "markdown",
   "source": [
    "\n",
    "- generate_flights(n): генерирует список SQL-запросов для вставки данных в таблицу Flight.\n"
   ],
   "metadata": {
    "collapsed": false
   }
  },
  {
   "cell_type": "code",
   "execution_count": null,
   "outputs": [],
   "source": [
    "def generate_flights(n):\n",
    "    flights = []\n",
    "    for i in range(1, n + 1):\n",
    "        time_departure = random_time()\n",
    "        time_arrival = (datetime.combine(datetime.today(), time_departure) + timedelta(hours=random.randint(1, 5))).time()\n",
    "        flights.append(f\"({i}, {random.randint(1, n)}, {random.randint(1, n)}, {random.randint(1, n)}, '{time_departure}', '{time_arrival}', {random.randint(60, 300)}, {random.randint(500, 1500)})\")\n",
    "    return flights"
   ],
   "metadata": {
    "collapsed": false
   }
  },
  {
   "cell_type": "markdown",
   "source": [
    "\n",
    "- generate_users(n): генерирует список SQL-запросов для вставки данных в таблицу User.\n"
   ],
   "metadata": {
    "collapsed": false
   }
  },
  {
   "cell_type": "code",
   "execution_count": null,
   "outputs": [],
   "source": [
    "def generate_users(n):\n",
    "    users = []\n",
    "    for i in range(1, n + 1):\n",
    "        users.append(f\"({i}, 'Username{i}', 'Password{i}', 'user{i}@example.com', 'User', '{datetime.now().strftime('%Y-%m-%d %H:%M:%S')}')\")\n",
    "    return users"
   ],
   "metadata": {
    "collapsed": false
   }
  },
  {
   "cell_type": "markdown",
   "source": [
    "\n",
    "- Функция для записи SQL-запросов в файл\n",
    "Описание функции:\n",
    "write_to_file(filename, data): записывает все SQL-запросы в один файл.\n"
   ],
   "metadata": {
    "collapsed": false
   }
  },
  {
   "cell_type": "code",
   "execution_count": null,
   "outputs": [],
   "source": [
    "def write_to_file(filename, data):\n",
    "    with open(filename, 'w') as file:\n",
    "        for table, values in data.items():\n",
    "            file.write(f\"INSERT INTO {table} VALUES\\n\")\n",
    "            file.write(\",\\n\".join(values) + \";\\n\\n\")"
   ],
   "metadata": {
    "collapsed": false
   }
  },
  {
   "cell_type": "markdown",
   "source": [
    "\n",
    "# Главная часть программы\n",
    "\n",
    "- Описание:\n",
    "Устанавливает количество записей для генерации (число указано в переменной n_records).\n",
    "Генерирует данные для всех таблиц.\n",
    "Записывает все SQL-запросы в файл с именем записанным в переменной filename."
   ],
   "metadata": {
    "collapsed": false
   }
  },
  {
   "cell_type": "code",
   "execution_count": null,
   "outputs": [],
   "source": [
    "if __name__ == \"__main__\":\n",
    "    data = {\n",
    "        'Airport(ID, Name, City, Country, Coordinates)': generate_airports(n_records),\n",
    "        'Airplane(ID, Type, BortNumber, PersonalOnBoard, NumberOfSeats)': generate_airplanes(n_records),\n",
    "        'Seat(ID, AirplaneID, SeatType, SeatNumber)': generate_seats(n_records),\n",
    "        'Passenger(ID, UserID, Name, Surname, Patronymic, Age, DateOfBirthdate, Gender, SerialNumberDocument, TypeOfDocument)': generate_passengers(n_records),\n",
    "        'Reservation(ID, SeatID, PassengerID, Insurance, TypeOfBill, PaymentCurrency)': generate_reservations(n_records),\n",
    "        'Flight(ID, AirportDepartureID, AirportArrivalID, AirplaneID, TimeDeparture, TimeArrival, TimeOnBoard, RangeOfFlight)': generate_flights(n_records),\n",
    "        'User(ID, Username, Password, E-Mail, Role, DateOfRegister)': generate_users(n_records)\n",
    "    }\n",
    "    write_to_file(filename, data)"
   ],
   "metadata": {
    "collapsed": false
   }
  }
 ]
}
